{
 "cells": [
  {
   "cell_type": "markdown",
   "metadata": {
    "id": "VljPGwOLCGoj"
   },
   "source": [
    "## __1. Set random seed__"
   ]
  },
  {
   "cell_type": "code",
   "execution_count": 1,
   "metadata": {
    "id": "zwmJUbxKCPjS"
   },
   "outputs": [
    {
     "name": "stderr",
     "output_type": "stream",
     "text": [
      "/home/hongong/anaconda3/envs/image-text-vqa/lib/python3.10/site-packages/tqdm/auto.py:21: TqdmWarning: IProgress not found. Please update jupyter and ipywidgets. See https://ipywidgets.readthedocs.io/en/stable/user_install.html\n",
      "  from .autonotebook import tqdm as notebook_tqdm\n"
     ]
    }
   ],
   "source": [
    "import torch\n",
    "import torch.nn as nn\n",
    "import torchtext\n",
    "import os\n",
    "import random\n",
    "import numpy as np\n",
    "import pandas as pd\n",
    "import spacy\n",
    "import timm\n",
    "import matplotlib.pyplot as plt\n",
    "\n",
    "from PIL import Image\n",
    "from torch.utils.data import Dataset, DataLoader\n",
    "from sklearn.model_selection import train_test_split\n",
    "from torchtext.data.utils import get_tokenizer\n",
    "from torchtext.vocab import build_vocab_from_iterator\n",
    "from torchvision import transforms"
   ]
  },
  {
   "cell_type": "code",
   "execution_count": 2,
   "metadata": {
    "id": "-C8gYIAjTHhR"
   },
   "outputs": [],
   "source": [
    "def set_seed(seed):\n",
    "    random.seed(seed)\n",
    "    np.random.seed(seed)\n",
    "    torch.manual_seed(seed)\n",
    "    torch.cuda.manual_seed(seed)\n",
    "    torch.cuda.manual_seed_all(seed)\n",
    "    torch.backends.cudnn.deterministic = True\n",
    "    torch.backends.cudnn.benchmark = False\n",
    "\n",
    "seed = 59\n",
    "set_seed(seed)"
   ]
  },
  {
   "cell_type": "markdown",
   "metadata": {
    "id": "Iu20gzLxCu2y"
   },
   "source": [
    "## __2. Read dataset__"
   ]
  },
  {
   "cell_type": "code",
   "execution_count": 22,
   "metadata": {
    "id": "ZOxeYUBvCSki"
   },
   "outputs": [],
   "source": [
    "# load train data\n",
    "train_data = []\n",
    "train_set_path = 'data/vaq2.0.TrainImages.txt'\n",
    "\n",
    "with open(train_set_path, \"r\") as f:\n",
    "    lines = f.readlines()\n",
    "    for line in lines:\n",
    "        temp = line.split('\\t')\n",
    "        qa = temp[1].split('?')\n",
    "\n",
    "        if len(qa) == 3:\n",
    "            answer = qa[2].strip()\n",
    "        else:\n",
    "            answer = qa[1].strip()\n",
    "\n",
    "        data_sample = {\n",
    "            'image_path': temp[0][:-2],\n",
    "            'question': qa[0] + '?',\n",
    "            'answer': answer\n",
    "        }\n",
    "        train_data.append(data_sample)\n",
    "\n",
    "# load val data\n",
    "val_data = []\n",
    "val_set_path = 'data/vaq2.0.DevImages.txt'\n",
    "\n",
    "with open(val_set_path, \"r\") as f:\n",
    "    lines = f.readlines()\n",
    "    for line in lines:\n",
    "        temp = line.split('\\t')\n",
    "        qa = temp[1].split('?')\n",
    "\n",
    "        if len(qa) == 3:\n",
    "            answer = qa[2].strip()\n",
    "        else:\n",
    "            answer = qa[1].strip()\n",
    "\n",
    "        data_sample = {\n",
    "            'image_path': temp[0][:-2],\n",
    "            'question': qa[0] + '?',\n",
    "            'answer': answer\n",
    "        }\n",
    "        val_data.append(data_sample)\n",
    "\n",
    "# load test data\n",
    "test_data = []\n",
    "test_set_path = 'data/vaq2.0.TestImages.txt'\n",
    "\n",
    "with open(test_set_path, \"r\") as f:\n",
    "    lines = f.readlines()\n",
    "    for line in lines:\n",
    "        temp = line.split('\\t')\n",
    "        qa = temp[1].split('?')\n",
    "\n",
    "        if len(qa) == 3:\n",
    "            answer = qa[2].strip()\n",
    "        else:\n",
    "            answer = qa[1].strip()\n",
    "\n",
    "        data_sample = {\n",
    "            'image_path': temp[0][:-2],\n",
    "            'question': qa[0] + '?',\n",
    "            'answer': answer\n",
    "        }\n",
    "        test_data.append(data_sample)\n",
    "\n",
    "        "
   ]
  },
  {
   "cell_type": "markdown",
   "metadata": {
    "id": "A_n5-R4NMqBx"
   },
   "source": [
    "## __3. Data Preprocessing__"
   ]
  },
  {
   "cell_type": "code",
   "execution_count": 6,
   "metadata": {},
   "outputs": [
    {
     "name": "stdout",
     "output_type": "stream",
     "text": [
      "Collecting en-core-web-sm==3.8.0\n",
      "  Downloading https://github.com/explosion/spacy-models/releases/download/en_core_web_sm-3.8.0/en_core_web_sm-3.8.0-py3-none-any.whl (12.8 MB)\n",
      "\u001b[2K     \u001b[90m━━━━━━━━━━━━━━━━━━━━━━━━━━━━━━━━━━━━━━━━\u001b[0m \u001b[32m12.8/12.8 MB\u001b[0m \u001b[31m45.6 kB/s\u001b[0m eta \u001b[36m0:00:00\u001b[0m00:06\u001b[0m00:13\u001b[0m\n",
      "\u001b[?25hInstalling collected packages: en-core-web-sm\n",
      "Successfully installed en-core-web-sm-3.8.0\n",
      "\u001b[38;5;2m✔ Download and installation successful\u001b[0m\n",
      "You can now load the package via spacy.load('en_core_web_sm')\n"
     ]
    }
   ],
   "source": [
    "!python -m spacy download en_core_web_sm"
   ]
  },
  {
   "cell_type": "code",
   "execution_count": 23,
   "metadata": {
    "id": "_RqGo2gUNwLW"
   },
   "outputs": [],
   "source": [
    "eng = spacy.load(\"en_core_web_sm\")\n",
    "\n",
    "def get_tokens(data_iter):\n",
    "    for sample in data_iter:\n",
    "        question = sample['question']\n",
    "\n",
    "        yield [token.text for token in eng.tokenizer(question)]\n",
    "\n",
    "\n",
    "vocab = build_vocab_from_iterator(\n",
    "    get_tokens(train_data),\n",
    "    min_freq=2,\n",
    "    specials= ['<pad>', '<sos>', '<eos>', '<unk>'],\n",
    "    special_first=True\n",
    ")\n",
    "vocab.set_default_index(vocab['<unk>'])"
   ]
  },
  {
   "cell_type": "code",
   "execution_count": 24,
   "metadata": {
    "id": "NDRHRaKyRiq6"
   },
   "outputs": [
    {
     "data": {
      "text/plain": [
       "1678"
      ]
     },
     "execution_count": 24,
     "metadata": {},
     "output_type": "execute_result"
    }
   ],
   "source": [
    "len(vocab)"
   ]
  },
  {
   "cell_type": "code",
   "execution_count": 25,
   "metadata": {
    "id": "G8cMLRR5Nyrm"
   },
   "outputs": [],
   "source": [
    "def tokenize(question, max_seq_len):\n",
    "    tokens = [token.text for token in eng.tokenizer(question)]\n",
    "    sequence = [vocab[token] for token in tokens]\n",
    "    if len(sequence) < max_seq_len:\n",
    "        sequence += [vocab['<pad>']] * (max_seq_len - len(sequence))\n",
    "    else:\n",
    "        sequence = sequence[:max_seq_len]\n",
    "\n",
    "    return sequence"
   ]
  },
  {
   "cell_type": "code",
   "execution_count": 26,
   "metadata": {
    "id": "EJyAO_i5THhT"
   },
   "outputs": [],
   "source": [
    "def detokenize(sequence):\n",
    "    idx_to_token = vocab.get_itos()\n",
    "\n",
    "    tokens = [idx_to_token[idx] for idx in sequence if idx_to_token[idx] not in ['<pad>', '<sos>', '<eos>', '<unk>']]\n",
    "\n",
    "    return \" \".join(tokens)"
   ]
  },
  {
   "cell_type": "code",
   "execution_count": 27,
   "metadata": {
    "id": "d6Qf8EMA-gjK"
   },
   "outputs": [
    {
     "name": "stdout",
     "output_type": "stream",
     "text": [
      "{0: 'no', 1: 'yes'}\n"
     ]
    }
   ],
   "source": [
    "classes = set([sample['answer'] for sample in train_data])\n",
    "label2idx = {\n",
    "    cls_name: idx for idx, cls_name in enumerate(classes)\n",
    "}\n",
    "idx2label = {\n",
    "    idx: cls_name for idx, cls_name in enumerate(classes)\n",
    "}\n",
    "print(idx2label)"
   ]
  },
  {
   "cell_type": "markdown",
   "metadata": {
    "id": "9UznC-J7FVTf"
   },
   "source": [
    "## __4. Create Pytorch dataset__"
   ]
  },
  {
   "cell_type": "code",
   "execution_count": 37,
   "metadata": {
    "id": "fXAFcSjnGlZF"
   },
   "outputs": [],
   "source": [
    "class VQADataset(Dataset):\n",
    "    def __init__(\n",
    "        self,\n",
    "        data,\n",
    "        label2idx,\n",
    "        max_seq_len=20,\n",
    "        transform=None,\n",
    "        img_dir='data/val2014-resised/'\n",
    "    ):\n",
    "        self.transform = transform\n",
    "        self.data = data\n",
    "        self.label2idx = label2idx\n",
    "        self.max_seq_len = max_seq_len\n",
    "        self.img_dir = img_dir\n",
    "\n",
    "    def __len__(self):\n",
    "        return len(self.data)\n",
    "\n",
    "    def __getitem__(self, index):\n",
    "        img_path = os.path.join(self.img_dir, self.data[index]['image_path'])\n",
    "        img = Image.open(img_path).convert('RGB')\n",
    "        if self.transform:\n",
    "            img = self.transform(img)\n",
    "\n",
    "        question = self.data[index]['question']\n",
    "        question = tokenize(question, self.max_seq_len)\n",
    "        question = torch.tensor(question, dtype=torch.long)\n",
    "\n",
    "        label = self.data[index]['answer']\n",
    "        label = self.label2idx[label]\n",
    "        label = torch.tensor(label, dtype=torch.long)\n",
    "        return img, question, label"
   ]
  },
  {
   "cell_type": "code",
   "execution_count": 38,
   "metadata": {
    "id": "AtRtdtYzrgeB"
   },
   "outputs": [],
   "source": [
    "data_transform = {\n",
    "    'train': transforms.Compose([\n",
    "        transforms.Resize(size=(224, 224)),\n",
    "        transforms.CenterCrop(size=180),\n",
    "        transforms.ColorJitter(brightness=0.1, contrast=0.1, saturation=0.1),\n",
    "        transforms.RandomHorizontalFlip(),\n",
    "        transforms.GaussianBlur(3),\n",
    "        transforms.ToTensor(),\n",
    "        transforms.Normalize((0.485, 0.456, 0.406), (0.229, 0.224, 0.225)),\n",
    "    ]),\n",
    "    'val': transforms.Compose([\n",
    "        transforms.Resize(size=(224, 224)),\n",
    "        transforms.ToTensor(),\n",
    "        transforms.Normalize((0.485, 0.456, 0.406), (0.229, 0.224, 0.225)),\n",
    "    ])\n",
    "}"
   ]
  },
  {
   "cell_type": "code",
   "execution_count": 39,
   "metadata": {
    "id": "NmyFmD_GL-BQ"
   },
   "outputs": [],
   "source": [
    "train_dataset = VQADataset(\n",
    "    train_data,\n",
    "    label2idx=label2idx,\n",
    "    transform=data_transform['train']\n",
    ")\n",
    "val_dataset = VQADataset(\n",
    "    val_data,\n",
    "    label2idx=label2idx,\n",
    "    transform=data_transform['val']\n",
    ")\n",
    "test_dataset = VQADataset(\n",
    "    test_data,\n",
    "    label2idx=label2idx,\n",
    "    transform=data_transform['val']\n",
    ")\n",
    "\n",
    "# print size\n",
    "print(f\"Train dataset size: {len(train_dataset)}\")\n",
    "print(f\"Val dataset size: {len(val_dataset)}\")\n",
    "print(f\"Test dataset size: {len(test_dataset)}\")"
   ]
  },
  {
   "cell_type": "code",
   "execution_count": 40,
   "metadata": {
    "id": "AToEIVctirQK"
   },
   "outputs": [],
   "source": [
    "train_batch_size = 256\n",
    "test_batch_size = 32\n",
    "\n",
    "train_loader = DataLoader(\n",
    "    train_dataset,\n",
    "    batch_size=train_batch_size,\n",
    "    shuffle=True\n",
    ")\n",
    "val_loader = DataLoader(\n",
    "    val_dataset,\n",
    "    batch_size=test_batch_size,\n",
    "    shuffle=False\n",
    ")\n",
    "test_loader = DataLoader(\n",
    "    test_dataset,\n",
    "    batch_size=test_batch_size,\n",
    "    shuffle=False\n",
    ")"
   ]
  },
  {
   "cell_type": "markdown",
   "metadata": {
    "id": "fOcnB225J90K"
   },
   "source": [
    "## __5. Create VQA model__"
   ]
  },
  {
   "cell_type": "code",
   "execution_count": 41,
   "metadata": {
    "id": "UwZNqfIvLmup"
   },
   "outputs": [],
   "source": [
    "class VQAModel(nn.Module):\n",
    "    def __init__(\n",
    "        self,\n",
    "        n_classes,\n",
    "        img_model_name,\n",
    "        embeddding_dim,\n",
    "        n_layers=2,\n",
    "        hidden_size=256,\n",
    "        drop_p=0.2\n",
    "    ):\n",
    "        super(VQAModel, self).__init__()\n",
    "        self.image_encoder = timm.create_model(img_model_name, pretrained=True, num_classes=hidden_size)\n",
    "\n",
    "        for param in self.image_encoder.parameters():\n",
    "            param.requires_grad = False\n",
    "\n",
    "        self.embedding = nn.Embedding(len(vocab), embeddding_dim)\n",
    "        self.lstm1 = nn.LSTM(embeddding_dim, hidden_size, n_layers, batch_first=True, bidirectional=True, dropout=drop_p)\n",
    "\n",
    "        self.fc1 = nn.Linear(hidden_size * 3, hidden_size)\n",
    "        self.dropout = nn.Dropout(drop_p)\n",
    "        self.gelu = nn.GELU()\n",
    "        self.fc2 = nn.Linear(hidden_size, n_classes)\n",
    "\n",
    "    def forward(self, img, text):\n",
    "        img_features = self.image_encoder(img)\n",
    "\n",
    "        text_emb = self.embedding(text)\n",
    "        lstm_out, _ = self.lstm1(text_emb)\n",
    "        lstm_out = lstm_out[:, -1, :]\n",
    "\n",
    "        combine = torch.cat([img_features, lstm_out], dim=1)\n",
    "        x = self.fc1(combine)\n",
    "        x = self.gelu(x)\n",
    "        x = self.dropout(x)\n",
    "        x = self.fc2(x)\n",
    "\n",
    "        return x"
   ]
  },
  {
   "cell_type": "code",
   "execution_count": 42,
   "metadata": {
    "id": "obxbBWAbkg2A"
   },
   "outputs": [],
   "source": [
    "n_classes = len(classes)\n",
    "img_model_name = 'resnet18'\n",
    "hidden_size = 256\n",
    "n_layers = 2\n",
    "embeddding_dim = 128\n",
    "drop_p = 0.2\n",
    "device = 'cuda' if torch.cuda.is_available() else 'cpu'\n",
    "print(device)\n",
    "\n",
    "model = VQAModel(\n",
    "    n_classes=n_classes,\n",
    "    img_model_name=img_model_name,\n",
    "    embeddding_dim=embeddding_dim,\n",
    "    n_layers=n_layers,\n",
    "    hidden_size=hidden_size,\n",
    "    drop_p=drop_p\n",
    ").to(device)\n",
    "\n",
    "model"
   ]
  },
  {
   "cell_type": "code",
   "execution_count": 43,
   "metadata": {
    "id": "ZzhJzxrGmWSO"
   },
   "outputs": [
    {
     "name": "stdout",
     "output_type": "stream",
     "text": [
      "torch.Size([256, 2])\n"
     ]
    }
   ],
   "source": [
    "images, questions, labels = next(iter(train_loader))\n",
    "\n",
    "model.eval()\n",
    "with torch.no_grad():\n",
    "    images = images.to(device)\n",
    "    questions = questions.to(device)\n",
    "    output = model(images, questions)\n",
    "    print(output.shape)"
   ]
  },
  {
   "cell_type": "markdown",
   "metadata": {
    "id": "OmPEn5s-mjJe"
   },
   "source": [
    "## __6. Training__"
   ]
  },
  {
   "cell_type": "code",
   "execution_count": 44,
   "metadata": {
    "id": "pBIA8pH0rEHF"
   },
   "outputs": [],
   "source": [
    "def evaluate(model, dataloader, criterion, device):\n",
    "    model.eval()\n",
    "    correct = 0\n",
    "    total = 0\n",
    "    losses = []\n",
    "    with torch.no_grad():\n",
    "        for image, question, labels in dataloader:\n",
    "            image, question, labels = image.to(device), question.to(device), labels.to(device)\n",
    "            outputs = model(image, question)\n",
    "            loss = criterion(outputs, labels)\n",
    "            losses.append(loss.item())\n",
    "            _, predicted = torch.max(outputs.data, 1)\n",
    "            total += labels.size(0)\n",
    "            correct += (predicted == labels).sum().item()\n",
    "\n",
    "    loss = sum(losses) / len(losses)\n",
    "    acc = correct / total\n",
    "\n",
    "    return loss, acc"
   ]
  },
  {
   "cell_type": "code",
   "execution_count": 45,
   "metadata": {
    "id": "MxNXk8_xrkon"
   },
   "outputs": [],
   "source": [
    "def fit(\n",
    "    model,\n",
    "    train_loader,\n",
    "    val_loader,\n",
    "    criterion,\n",
    "    optimizer,\n",
    "    scheduler,\n",
    "    device,\n",
    "    epochs\n",
    "):\n",
    "    train_losses = []\n",
    "    val_losses = []\n",
    "\n",
    "    for epoch in range(epochs):\n",
    "        batch_train_losses = []\n",
    "\n",
    "        model.train()\n",
    "        for idx, (images, questions, labels) in enumerate(train_loader):\n",
    "            images = images.to(device)\n",
    "            questions = questions.to(device)\n",
    "            labels = labels.to(device)\n",
    "\n",
    "            optimizer.zero_grad()\n",
    "            outputs = model(images, questions)\n",
    "            loss = criterion(outputs, labels)\n",
    "            loss.backward()\n",
    "            optimizer.step()\n",
    "\n",
    "            batch_train_losses.append(loss.item())\n",
    "\n",
    "        train_loss = sum(batch_train_losses) / len(batch_train_losses)\n",
    "        train_losses.append(train_loss)\n",
    "\n",
    "        val_loss, val_acc = evaluate(\n",
    "            model, val_loader,\n",
    "            criterion, device\n",
    "        )\n",
    "        val_losses.append(val_loss)\n",
    "\n",
    "        print(f'EPOCH {epoch + 1}:\\tTrain loss: {train_loss:.4f}\\tVal loss: {val_loss:.4f}\\tVal Acc: {val_acc}')\n",
    "\n",
    "        scheduler.step()\n",
    "\n",
    "    return train_losses, val_losses"
   ]
  },
  {
   "cell_type": "code",
   "execution_count": 46,
   "metadata": {
    "id": "6hj65HGor2pv"
   },
   "outputs": [],
   "source": [
    "lr = 1e-3\n",
    "epochs = 50\n",
    "\n",
    "scheduler_step_size = epochs * 0.8\n",
    "criterion = nn.CrossEntropyLoss()\n",
    "\n",
    "optimizer = torch.optim.Adam(\n",
    "    model.parameters(),\n",
    "    lr=lr\n",
    ")\n",
    "scheduler = torch.optim.lr_scheduler.StepLR(\n",
    "    optimizer,\n",
    "    step_size=scheduler_step_size,\n",
    "    gamma=0.1\n",
    ")"
   ]
  },
  {
   "cell_type": "code",
   "execution_count": 47,
   "metadata": {
    "id": "z5Qmw6efr5HG"
   },
   "outputs": [
    {
     "name": "stdout",
     "output_type": "stream",
     "text": [
      "EPOCH 1:\tTrain loss: 0.6959\tVal loss: 0.6910\tVal Acc: 0.5307377049180327\n",
      "EPOCH 2:\tTrain loss: 0.6877\tVal loss: 0.6918\tVal Acc: 0.5353483606557377\n",
      "EPOCH 3:\tTrain loss: 0.6843\tVal loss: 0.6925\tVal Acc: 0.5338114754098361\n",
      "EPOCH 4:\tTrain loss: 0.6837\tVal loss: 0.6998\tVal Acc: 0.5087090163934426\n",
      "EPOCH 5:\tTrain loss: 0.6840\tVal loss: 0.6968\tVal Acc: 0.5112704918032787\n",
      "EPOCH 6:\tTrain loss: 0.6811\tVal loss: 0.6937\tVal Acc: 0.514344262295082\n",
      "EPOCH 7:\tTrain loss: 0.6822\tVal loss: 0.6906\tVal Acc: 0.5420081967213115\n",
      "EPOCH 8:\tTrain loss: 0.6766\tVal loss: 0.6931\tVal Acc: 0.5353483606557377\n",
      "EPOCH 9:\tTrain loss: 0.6729\tVal loss: 0.6965\tVal Acc: 0.5148565573770492\n",
      "EPOCH 10:\tTrain loss: 0.6705\tVal loss: 0.6937\tVal Acc: 0.5251024590163934\n",
      "EPOCH 11:\tTrain loss: 0.6655\tVal loss: 0.6929\tVal Acc: 0.5471311475409836\n",
      "EPOCH 12:\tTrain loss: 0.6607\tVal loss: 0.6940\tVal Acc: 0.5281762295081968\n",
      "EPOCH 13:\tTrain loss: 0.6591\tVal loss: 0.6917\tVal Acc: 0.5409836065573771\n",
      "EPOCH 14:\tTrain loss: 0.6511\tVal loss: 0.6925\tVal Acc: 0.5594262295081968\n",
      "EPOCH 15:\tTrain loss: 0.6398\tVal loss: 0.7004\tVal Acc: 0.5322745901639344\n",
      "EPOCH 16:\tTrain loss: 0.6401\tVal loss: 0.6890\tVal Acc: 0.5517418032786885\n",
      "EPOCH 17:\tTrain loss: 0.6345\tVal loss: 0.6922\tVal Acc: 0.5573770491803278\n",
      "EPOCH 18:\tTrain loss: 0.6279\tVal loss: 0.6932\tVal Acc: 0.5476434426229508\n",
      "EPOCH 19:\tTrain loss: 0.6227\tVal loss: 0.6892\tVal Acc: 0.5599385245901639\n",
      "EPOCH 20:\tTrain loss: 0.6112\tVal loss: 0.6940\tVal Acc: 0.5527663934426229\n",
      "EPOCH 21:\tTrain loss: 0.6062\tVal loss: 0.6983\tVal Acc: 0.5568647540983607\n",
      "EPOCH 22:\tTrain loss: 0.5955\tVal loss: 0.7003\tVal Acc: 0.5507172131147541\n",
      "EPOCH 23:\tTrain loss: 0.5887\tVal loss: 0.7022\tVal Acc: 0.5573770491803278\n",
      "EPOCH 24:\tTrain loss: 0.5836\tVal loss: 0.6970\tVal Acc: 0.5635245901639344\n",
      "EPOCH 25:\tTrain loss: 0.5707\tVal loss: 0.6969\tVal Acc: 0.5660860655737705\n",
      "EPOCH 26:\tTrain loss: 0.5681\tVal loss: 0.6939\tVal Acc: 0.5732581967213115\n",
      "EPOCH 27:\tTrain loss: 0.5602\tVal loss: 0.6993\tVal Acc: 0.5676229508196722\n",
      "EPOCH 28:\tTrain loss: 0.5506\tVal loss: 0.7076\tVal Acc: 0.5671106557377049\n",
      "EPOCH 29:\tTrain loss: 0.5325\tVal loss: 0.7114\tVal Acc: 0.5671106557377049\n",
      "EPOCH 30:\tTrain loss: 0.5223\tVal loss: 0.7264\tVal Acc: 0.5727459016393442\n",
      "EPOCH 31:\tTrain loss: 0.5121\tVal loss: 0.7242\tVal Acc: 0.5614754098360656\n",
      "EPOCH 32:\tTrain loss: 0.5114\tVal loss: 0.7236\tVal Acc: 0.5788934426229508\n",
      "EPOCH 33:\tTrain loss: 0.4966\tVal loss: 0.7413\tVal Acc: 0.5773565573770492\n",
      "EPOCH 34:\tTrain loss: 0.4872\tVal loss: 0.7523\tVal Acc: 0.5676229508196722\n",
      "EPOCH 35:\tTrain loss: 0.4779\tVal loss: 0.7548\tVal Acc: 0.5773565573770492\n",
      "EPOCH 36:\tTrain loss: 0.4675\tVal loss: 0.7558\tVal Acc: 0.5814549180327869\n",
      "EPOCH 37:\tTrain loss: 0.4502\tVal loss: 0.7841\tVal Acc: 0.5737704918032787\n",
      "EPOCH 38:\tTrain loss: 0.4415\tVal loss: 0.7898\tVal Acc: 0.5691598360655737\n",
      "EPOCH 39:\tTrain loss: 0.4371\tVal loss: 0.7787\tVal Acc: 0.5876024590163934\n",
      "EPOCH 40:\tTrain loss: 0.4139\tVal loss: 0.8333\tVal Acc: 0.5835040983606558\n",
      "EPOCH 41:\tTrain loss: 0.3821\tVal loss: 0.8312\tVal Acc: 0.5886270491803278\n",
      "EPOCH 42:\tTrain loss: 0.3797\tVal loss: 0.8324\tVal Acc: 0.5876024590163934\n",
      "EPOCH 43:\tTrain loss: 0.3728\tVal loss: 0.8410\tVal Acc: 0.5891393442622951\n",
      "EPOCH 44:\tTrain loss: 0.3677\tVal loss: 0.8621\tVal Acc: 0.5840163934426229\n",
      "EPOCH 45:\tTrain loss: 0.3751\tVal loss: 0.8760\tVal Acc: 0.5840163934426229\n",
      "EPOCH 46:\tTrain loss: 0.3626\tVal loss: 0.8785\tVal Acc: 0.5891393442622951\n",
      "EPOCH 47:\tTrain loss: 0.3652\tVal loss: 0.8888\tVal Acc: 0.5835040983606558\n",
      "EPOCH 48:\tTrain loss: 0.3595\tVal loss: 0.8874\tVal Acc: 0.5799180327868853\n",
      "EPOCH 49:\tTrain loss: 0.3581\tVal loss: 0.9126\tVal Acc: 0.5753073770491803\n",
      "EPOCH 50:\tTrain loss: 0.3562\tVal loss: 0.9042\tVal Acc: 0.5778688524590164\n"
     ]
    }
   ],
   "source": [
    "%%time\n",
    "train_losses, val_losses = fit(\n",
    "    model,\n",
    "    train_loader,\n",
    "    val_loader,\n",
    "    criterion,\n",
    "    optimizer,\n",
    "    scheduler,\n",
    "    device,\n",
    "    epochs\n",
    ")"
   ]
  },
  {
   "cell_type": "code",
   "execution_count": 48,
   "metadata": {
    "id": "xIobHWIptBQm"
   },
   "outputs": [
    {
     "data": {
      "image/png": "[encoded data removed]",
      "text/plain": [
       "<Figure size 1200x500 with 2 Axes>"
      ]
     },
     "metadata": {},
     "output_type": "display_data"
    }
   ],
   "source": [
    "fig, ax = plt.subplots(1, 2, figsize=(12, 5))\n",
    "ax[0].plot(train_losses)\n",
    "ax[0].set_title('Training Loss')\n",
    "ax[0].set_xlabel('Epoch')\n",
    "ax[0].set_ylabel('Loss')\n",
    "ax[1].plot(val_losses, color='orange')\n",
    "ax[1].set_title('Val Loss')\n",
    "ax[1].set_xlabel('Epoch')\n",
    "ax[1].set_ylabel('Loss')\n",
    "plt.show()"
   ]
  },
  {
   "cell_type": "markdown",
   "metadata": {
    "id": "JPFgeiArr6zp"
   },
   "source": [
    "## __7. Evaluation__"
   ]
  },
  {
   "cell_type": "code",
   "execution_count": 49,
   "metadata": {
    "id": "psvbHQpis5bm"
   },
   "outputs": [
    {
     "name": "stdout",
     "output_type": "stream",
     "text": [
      "Evaluation on val/test dataset\n",
      "Val accuracy:  0.5778688524590164\n",
      "Test accuracy:  0.5786350148367952\n"
     ]
    }
   ],
   "source": [
    "val_loss, val_acc = evaluate(\n",
    "    model,\n",
    "    val_loader,\n",
    "    criterion,\n",
    "    device\n",
    ")\n",
    "test_loss, test_acc = evaluate(\n",
    "    model,\n",
    "    test_loader,\n",
    "    criterion,\n",
    "    device\n",
    ")\n",
    "\n",
    "print('Evaluation on val/test dataset')\n",
    "print('Val accuracy: ', val_acc)\n",
    "print('Test accuracy: ', test_acc)"
   ]
  },
  {
   "cell_type": "markdown",
   "metadata": {
    "id": "H3Ouv0gRTHhV"
   },
   "source": [
    "## __8. Inference__"
   ]
  },
  {
   "cell_type": "code",
   "execution_count": null,
   "metadata": {
    "id": "_QscSxLmTHhV"
   },
   "outputs": [],
   "source": [
    "idx = 22\n",
    "img_name = test_data[idx]['image_path']\n",
    "img_path = os.path.join(\"data\", 'val2014-resised', img_name)\n",
    "question = test_data[idx]['question']\n",
    "label = test_data[idx]['answer']\n",
    "\n",
    "max_seq_len = 20\n",
    "question_processed = torch.tensor(tokenize(question, max_seq_len)).unsqueeze(0).to(device)\n",
    "\n",
    "img = Image.open(img_path).convert(\"RGB\")\n",
    "img_processed = data_transform['val'](img).unsqueeze(0).to(device)\n",
    "\n",
    "model.eval()\n",
    "with torch.no_grad():\n",
    "    output = model(img_processed, question_processed)\n",
    "    pred = torch.argmax(output, dim=1).item()\n",
    "\n",
    "reverse_transform = transforms.Compose([\n",
    "    transforms.Normalize(mean=[0., 0., 0.], std=[1/0.229, 1/0.224, 1/0.225]),\n",
    "    transforms.Normalize(mean=[-0.485, -0.456, -0.406], std=[1., 1., 1.]),\n",
    "    transforms.ToPILImage()\n",
    "])\n",
    "image_vis = reverse_transform(img_processed.squeeze(0).cpu())\n",
    "\n",
    "origin_quest = detokenize(question_processed.squeeze(0).cpu().tolist())\n",
    "\n",
    "plt.figure(figsize=(6, 6))\n",
    "plt.imshow(image_vis)\n",
    "plt.axis('off')\n",
    "plt.show()\n",
    "\n",
    "print(f'Question: {origin_quest}')\n",
    "print(f'Groundtruth: {label}')\n",
    "print(f'Predicted: {idx2label[pred]}')"
   ]
  },
  {
   "cell_type": "code",
   "execution_count": null,
   "metadata": {},
   "outputs": [],
   "source": [
    "# save model\n",
    "torch.save(model.state_dict(), 'models/cnn_lstm_fc_model.pth')\n",
    "\n",
    "# # load model\n",
    "# model = VQAModel(\n",
    "#     n_classes=n_classes,\n",
    "#     img_model_name=img_model_name,\n",
    "#     embeddding_dim=embeddding_dim,\n",
    "#     n_layers=n_layers,\n",
    "#     hidden_size=hidden_size,\n",
    "#     drop_p=drop_p\n",
    "# ).to(device)\n",
    "\n",
    "# model.load_state_dict(torch.load('cnn_lstm_fc_model.pth'))"
   ]
  },
  {
   "cell_type": "code",
   "execution_count": null,
   "metadata": {},
   "outputs": [],
   "source": []
  }
 ],
 "metadata": {
  "accelerator": "GPU",
  "colab": {
   "provenance": []
  },
  "kernelspec": {
   "display_name": "image-text-vqa",
   "language": "python",
   "name": "python3"
  },
  "language_info": {
   "codemirror_mode": {
    "name": "ipython",
    "version": 3
   },
   "file_extension": ".py",
   "mimetype": "text/x-python",
   "name": "python",
   "nbconvert_exporter": "python",
   "pygments_lexer": "ipython3",
   "version": "3.10.16"
  }
 },
 "nbformat": 4,
 "nbformat_minor": 0
}
